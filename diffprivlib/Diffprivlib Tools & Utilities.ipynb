{
 "cells": [
  {
   "cell_type": "markdown",
   "metadata": {},
   "source": [
    "## Diffprivlib Tools & Utilities             "
   ]
  },
  {
   "cell_type": "markdown",
   "metadata": {},
   "source": [
    "### Installation"
   ]
  },
  {
   "cell_type": "code",
   "execution_count": 1,
   "metadata": {},
   "outputs": [
    {
     "name": "stdout",
     "output_type": "stream",
     "text": [
      "Requirement already satisfied: diffprivlib in c:\\anaconda\\lib\\site-packages (0.2.0)\n",
      "Requirement already satisfied: scikit-learn>=0.20.3 in c:\\anaconda\\lib\\site-packages (from diffprivlib) (0.22.1)\n",
      "Requirement already satisfied: joblib>=0.13.2 in c:\\anaconda\\lib\\site-packages (from diffprivlib) (0.14.1)\n",
      "Requirement already satisfied: numpy>=1.15.0 in c:\\anaconda\\lib\\site-packages (from diffprivlib) (1.18.1)\n",
      "Requirement already satisfied: scipy>=1.2.1 in c:\\anaconda\\lib\\site-packages (from diffprivlib) (1.4.1)\n",
      "Requirement already satisfied: setuptools>=39.0.1 in c:\\anaconda\\lib\\site-packages (from diffprivlib) (45.2.0.post20200210)\n"
     ]
    }
   ],
   "source": [
    "!pip install diffprivlib"
   ]
  },
  {
   "cell_type": "markdown",
   "metadata": {},
   "source": [
    "### Diffprivlib Tools & Utilities"
   ]
  },
  {
   "cell_type": "markdown",
   "metadata": {},
   "source": [
    "Importing required libraries:"
   ]
  },
  {
   "cell_type": "code",
   "execution_count": 4,
   "metadata": {},
   "outputs": [],
   "source": [
    "import numpy as np\n",
    "import statistics as stats\n",
    "import matplotlib.pyplot as plt"
   ]
  },
  {
   "cell_type": "markdown",
   "metadata": {},
   "source": [
    "Importing required tools from Diffprivlib library:"
   ]
  },
  {
   "cell_type": "code",
   "execution_count": 17,
   "metadata": {},
   "outputs": [],
   "source": [
    "from diffprivlib.tools.utils import mean\n",
    "from diffprivlib.tools.utils import std\n",
    "from diffprivlib.tools.utils import var\n",
    "from diffprivlib.tools.utils import nanmean\n",
    "from diffprivlib.tools.utils import nanvar\n",
    "from diffprivlib.tools.utils import nanstd\n",
    "\n",
    "from diffprivlib.utils import global_seed\n",
    "from diffprivlib.mechanisms import Laplace\n",
    "from diffprivlib.tools.histograms import histogram"
   ]
  },
  {
   "cell_type": "markdown",
   "metadata": {},
   "source": [
    "The following code blocks contain definitions for the user-defined functions anon_avg, anon_std, anon_var, anon_nanmean, anon_nanvar and anon_nanstd. These definitions  are derived from the pre-defined utilities of Diffprivlib. <br><br>Further,the parameters are declared as default to facilitate ease of use."
   ]
  },
  {
   "cell_type": "code",
   "execution_count": 19,
   "metadata": {},
   "outputs": [],
   "source": [
    "def anon_avg(value,epsilon=1,sensitivity=1):\n",
    "    return mean(value,epsilon,sensitivity)\n",
    "\n",
    "def anon_std(value,epsilon=1,sensitivity=1):\n",
    "    return std(value,epsilon,sensitivity)\n",
    "\n",
    "def anon_var(value,epsilon=1,sensitivity=1):\n",
    "    return var(value,epsilon,sensitivity)"
   ]
  },
  {
   "cell_type": "code",
   "execution_count": 20,
   "metadata": {},
   "outputs": [],
   "source": [
    "def anon_nanmean(value,epsilon=1,range=1):\n",
    "    return nanmean(value,epsilon,range)\n",
    "\n",
    "def anon_nanvar(value,epsilon=1,range=1):\n",
    "    return nanvar(value,epsilon,range)\n",
    "\n",
    "def anon_nanstd(value,epsilon=1,range=1):\n",
    "    return nanstd(value,epsilon,range) "
   ]
  },
  {
   "cell_type": "markdown",
   "metadata": {},
   "source": [
    "Since the library has definitions only for mean, variance and standard deviation, we manually define functions for sum and count using Laplace mechanism."
   ]
  },
  {
   "cell_type": "code",
   "execution_count": 29,
   "metadata": {},
   "outputs": [],
   "source": [
    "def anon_randomize(value,epsilon=1,sensitivity=1): #Laplace mechanism\n",
    "    laplace = Laplace ()\n",
    "    laplace.set_epsilon(epsilon)\n",
    "    laplace.set_sensitivity(sensitivity)\n",
    "    return laplace.randomise(value)\n",
    "\n",
    "def anon_sum(value,epsilon=1,sensitivity=1):\n",
    "    return anon_randomize(np.sum(value),epsilon,sensitivity)\n",
    "\n",
    "def anon_count(value,epsilon=1,sensitivity=1):\n",
    "    return anon_randomize(value.size,epsilon,sensitivity)"
   ]
  },
  {
   "cell_type": "markdown",
   "metadata": {},
   "source": [
    "### Implementing Diffprivlib Tools"
   ]
  },
  {
   "cell_type": "markdown",
   "metadata": {},
   "source": [
    "Given below are the function calls to the before-mentioned differential privacy functions. "
   ]
  },
  {
   "cell_type": "markdown",
   "metadata": {},
   "source": [
    "### anon_sum"
   ]
  },
  {
   "cell_type": "code",
   "execution_count": 30,
   "metadata": {},
   "outputs": [
    {
     "name": "stdout",
     "output_type": "stream",
     "text": [
      "sum: 50\n",
      "anon_sum: 48.44075779123561\n",
      "anon_sum: 49.66333056167096\n"
     ]
    }
   ],
   "source": [
    "x=np.array([10,10,10,20])\n",
    "print('sum:',np.sum(x))                  #Actual sum \n",
    "print('anon_sum:',anon_sum(x))           #No parametes specified       \n",
    "print('anon_sum:',anon_sum(x,0.8,1))     #values specified for epsilon and range"
   ]
  },
  {
   "cell_type": "markdown",
   "metadata": {},
   "source": [
    "\n",
    "### anon_count"
   ]
  },
  {
   "cell_type": "code",
   "execution_count": 37,
   "metadata": {},
   "outputs": [
    {
     "name": "stdout",
     "output_type": "stream",
     "text": [
      "count: 4\n",
      "anon_count: 4.663509504139642\n"
     ]
    }
   ],
   "source": [
    "x=np.array([10,10,10,20])\n",
    "print('count:',x.size)\n",
    "print('anon_count:',anon_count(x)) "
   ]
  },
  {
   "cell_type": "markdown",
   "metadata": {},
   "source": [
    "### anon_avg"
   ]
  },
  {
   "cell_type": "code",
   "execution_count": 43,
   "metadata": {},
   "outputs": [
    {
     "name": "stdout",
     "output_type": "stream",
     "text": [
      "avg: 12.5\n",
      "anon_avg: 12.741465340139309\n"
     ]
    }
   ],
   "source": [
    "x=np.array([10,10,10,20])\n",
    "print('avg:',np.mean(x))\n",
    "print('anon_avg:',anon_avg(x,0.8,1))"
   ]
  },
  {
   "cell_type": "markdown",
   "metadata": {},
   "source": [
    "### anon_std"
   ]
  },
  {
   "cell_type": "code",
   "execution_count": 59,
   "metadata": {},
   "outputs": [
    {
     "name": "stdout",
     "output_type": "stream",
     "text": [
      "stdev: 5.0\n",
      "anon_std: 4.344114132600096\n"
     ]
    }
   ],
   "source": [
    "x=np.array([10,10,10,20])\n",
    "print('stdev:',stats.stdev(x))\n",
    "print('anon_std:',anon_std(x,1,1))"
   ]
  },
  {
   "cell_type": "markdown",
   "metadata": {},
   "source": [
    "### anon_var"
   ]
  },
  {
   "cell_type": "code",
   "execution_count": 73,
   "metadata": {},
   "outputs": [
    {
     "name": "stdout",
     "output_type": "stream",
     "text": [
      "variance: 25\n",
      "anon_var: 19.000363190362883\n"
     ]
    }
   ],
   "source": [
    "x=np.array([10,10,10,20])\n",
    "print('variance:',stats.variance(x))\n",
    "print('anon_var:',anon_var(x))"
   ]
  },
  {
   "cell_type": "markdown",
   "metadata": {},
   "source": [
    "### nanmean, nanstd, and nanvar"
   ]
  },
  {
   "cell_type": "markdown",
   "metadata": {},
   "source": [
    "The nanmean, nanstd and nanvar are similar to Diffprivlib mean,std and var, but is designed to work with 'nan' values."
   ]
  },
  {
   "cell_type": "code",
   "execution_count": 84,
   "metadata": {},
   "outputs": [
    {
     "name": "stdout",
     "output_type": "stream",
     "text": [
      "nanmean: 12.5\n",
      "anon_nanmean: 12.610384155492255  [No parameters specified]\n",
      "anon_nanmean: 12.401375696628431  [Both epsilon & range specified]\n",
      "anon_nanmean: 12.411272845557848  [Only epsilon specified]\n",
      "anon_nanmean: 12.674295558085948  [Only range specified]\n",
      "\n",
      "nanvar: 18.75\n",
      "anon_nanvar: 19.440193278347092\n",
      "\n",
      "nanstd: 4.330127018922194\n",
      "anon_nanstd: 4.369013479621276\n"
     ]
    }
   ],
   "source": [
    "x=np.array([10,np.nan,10,10,np.nan,20,np.nan])\n",
    "print('nanmean:',np.nanmean(x))\n",
    "print('anon_nanmean:',anon_nanmean(x),' [No parameters specified]')\n",
    "print('anon_nanmean:',anon_nanmean(x,1,1),' [Both epsilon & range specified]')\n",
    "print('anon_nanmean:',anon_nanmean(x,epsilon=0.9),' [Only epsilon specified]')\n",
    "print('anon_nanmean:',anon_nanmean(x,range=1),' [Only range specified]')\n",
    "\n",
    "print('')\n",
    "print('nanvar:',np.nanvar(x))\n",
    "print('anon_nanvar:',anon_nanvar(x))\n",
    "\n",
    "print('')\n",
    "print('nanstd:',np.nanstd(x))\n",
    "print('anon_nanstd:',anon_nanstd(x))"
   ]
  },
  {
   "cell_type": "markdown",
   "metadata": {},
   "source": [
    "### Histogram"
   ]
  },
  {
   "cell_type": "markdown",
   "metadata": {},
   "source": [
    "Normal histogram:"
   ]
  },
  {
   "cell_type": "code",
   "execution_count": 86,
   "metadata": {},
   "outputs": [
    {
     "name": "stdout",
     "output_type": "stream",
     "text": [
      "[5 3 5 2]\n",
      "[  0.  25.  50.  75. 100.]\n"
     ]
    },
    {
     "data": {
      "image/png": "[encoded data removed]",
      "text/plain": [
       "<Figure size 432x288 with 1 Axes>"
      ]
     },
     "metadata": {
      "needs_background": "light"
     },
     "output_type": "display_data"
    }
   ],
   "source": [
    "global_seed(100)\n",
    "a = np.array([22,87,5,43,56,73,55,54,11,20,51,5,79,31,27]) \n",
    "\n",
    "#normal histograms\n",
    "hist, bin_edges = np.histogram(a, bins =4,range=(0,100))\n",
    "print(hist)\n",
    "print(bin_edges)\n",
    "plt.bar(bin_edges[:-1], hist, width = 25)\n",
    "plt.xlim(min(bin_edges), max(bin_edges))\n",
    "plt.title(\"histogram\") \n",
    "plt.show()"
   ]
  },
  {
   "cell_type": "markdown",
   "metadata": {},
   "source": [
    "Differentially private histogram:"
   ]
  },
  {
   "cell_type": "code",
   "execution_count": 87,
   "metadata": {},
   "outputs": [
    {
     "name": "stdout",
     "output_type": "stream",
     "text": [
      "[7 2 3 2]\n",
      "[  0.  25.  50.  75. 100.]\n"
     ]
    },
    {
     "data": {
      "image/png": "[encoded data removed]",
      "text/plain": [
       "<Figure size 432x288 with 1 Axes>"
      ]
     },
     "metadata": {
      "needs_background": "light"
     },
     "output_type": "display_data"
    }
   ],
   "source": [
    "hist, bin_edges = histogram(a,epsilon=1, bins =4,range=(0,100))\n",
    "print(hist)\n",
    "print(bin_edges)\n",
    "plt.bar(bin_edges[:-1], hist, width = 25)\n",
    "plt.xlim(min(bin_edges), max(bin_edges))\n",
    "plt.title(\"anon_histogram\") \n",
    "plt.show()"
   ]
  }
 ],
 "metadata": {
  "kernelspec": {
   "display_name": "Python 3",
   "language": "python",
   "name": "python3"
  },
  "language_info": {
   "codemirror_mode": {
    "name": "ipython",
    "version": 3
   },
   "file_extension": ".py",
   "mimetype": "text/x-python",
   "name": "python",
   "nbconvert_exporter": "python",
   "pygments_lexer": "ipython3",
   "version": "3.7.6"
  }
 },
 "nbformat": 4,
 "nbformat_minor": 4
}
