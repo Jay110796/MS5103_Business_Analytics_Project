{
 "cells": [
  {
   "cell_type": "markdown",
   "metadata": {},
   "source": [
    "## Diffprivlib Privacy Warnings"
   ]
  },
  {
   "cell_type": "markdown",
   "metadata": {},
   "source": [
    "### Installation"
   ]
  },
  {
   "cell_type": "code",
   "execution_count": 5,
   "metadata": {},
   "outputs": [
    {
     "name": "stdout",
     "output_type": "stream",
     "text": [
      "Requirement already satisfied: diffprivlib in c:\\anaconda\\lib\\site-packages (0.2.0)\n",
      "Requirement already satisfied: numpy>=1.15.0 in c:\\anaconda\\lib\\site-packages (from diffprivlib) (1.18.1)\n",
      "Requirement already satisfied: setuptools>=39.0.1 in c:\\anaconda\\lib\\site-packages (from diffprivlib) (45.2.0.post20200210)\n",
      "Requirement already satisfied: scipy>=1.2.1 in c:\\anaconda\\lib\\site-packages (from diffprivlib) (1.4.1)\n",
      "Requirement already satisfied: joblib>=0.13.2 in c:\\anaconda\\lib\\site-packages (from diffprivlib) (0.14.1)\n",
      "Requirement already satisfied: scikit-learn>=0.20.3 in c:\\anaconda\\lib\\site-packages (from diffprivlib) (0.22.1)\n"
     ]
    }
   ],
   "source": [
    "import numpy as np\n",
    "!pip install diffprivlib"
   ]
  },
  {
   "cell_type": "markdown",
   "metadata": {},
   "source": [
    "### PrivacyLeakWarning"
   ]
  },
  {
   "cell_type": "markdown",
   "metadata": {},
   "source": [
    "Not specifying the bounds while calling the GaussianNB model or suppling bounds to the model that do not cover all the data, results in a potential violation of differential privacy. Therefore, the user is warned about a possible privacy leak."
   ]
  },
  {
   "cell_type": "code",
   "execution_count": 9,
   "metadata": {},
   "outputs": [
    {
     "name": "stderr",
     "output_type": "stream",
     "text": [
      "C:\\Anaconda\\lib\\site-packages\\diffprivlib\\models\\naive_bayes.py:93: PrivacyLeakWarning: Bounds have not been specified and will be calculated on the data provided. This will result in additional privacy leakage. To ensure differential privacy and no additional privacy leakage, specify bounds for each dimension.\n",
      "  \"privacy leakage, specify bounds for each dimension.\", PrivacyLeakWarning)\n"
     ]
    },
    {
     "data": {
      "text/plain": [
       "array([2, 1])"
      ]
     },
     "execution_count": 9,
     "metadata": {},
     "output_type": "execute_result"
    }
   ],
   "source": [
    "from diffprivlib.models import GaussianNB\n",
    "nb=GaussianNB()\n",
    "X=np.array([[-1,-1],[-2,-1],[-3,-2],[1,1],[2,1],[3,2]])\n",
    "y=np.array([1,1,1,2,2,2])\n",
    "nb.fit(X,y)\n",
    "nb.predict([[-0.5,-2],[3,2]])"
   ]
  },
  {
   "cell_type": "markdown",
   "metadata": {},
   "source": [
    "The warning is suppressed by initialising with GaussianNB(bounds=[(-3,\n",
    "3), (-2, 2)]), as the values in each column of X fall within those\n",
    "bounds"
   ]
  },
  {
   "cell_type": "code",
   "execution_count": 11,
   "metadata": {},
   "outputs": [
    {
     "data": {
      "text/plain": [
       "array([2, 2])"
      ]
     },
     "execution_count": 11,
     "metadata": {},
     "output_type": "execute_result"
    }
   ],
   "source": [
    "from diffprivlib.models import GaussianNB\n",
    "nb=GaussianNB(epsilon=1,bounds=[(-3,3),(-2,2)])\n",
    "X=np.array([[-1,-1],[-2,-1],[-3,-2],[1,1],[2,1],[3,2]])\n",
    "y=np.array([1,1,1,2,2,2])\n",
    "nb.fit(X,y)\n",
    "nb.predict([[-0.5,-2],[3,2]])"
   ]
  },
  {
   "cell_type": "markdown",
   "metadata": {},
   "source": [
    "### DiffprivlibCompatibilityWarning"
   ]
  },
  {
   "cell_type": "markdown",
   "metadata": {},
   "source": [
    "Triggered when a parameter, typically present in the parent of the function/class (i.e., in NumPy or Scikit-learn), is specified to a diffprivlib component which does not use the parameter."
   ]
  }
 ],
 "metadata": {
  "kernelspec": {
   "display_name": "Python 3",
   "language": "python",
   "name": "python3"
  },
  "language_info": {
   "codemirror_mode": {
    "name": "ipython",
    "version": 3
   },
   "file_extension": ".py",
   "mimetype": "text/x-python",
   "name": "python",
   "nbconvert_exporter": "python",
   "pygments_lexer": "ipython3",
   "version": "3.7.6"
  }
 },
 "nbformat": 4,
 "nbformat_minor": 4
}
